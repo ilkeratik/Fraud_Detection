{
 "cells": [
  {
   "cell_type": "markdown",
   "metadata": {},
   "source": [
    "# Data, Library, Utils"
   ]
  },
  {
   "cell_type": "code",
   "execution_count": 2,
   "metadata": {},
   "outputs": [],
   "source": [
    "import numpy as np\n",
    "import pandas as pd\n",
    "import seaborn as  sns\n",
    "import matplotlib.pyplot as plt\n",
    "from imblearn.over_sampling import RandomOverSampler\n",
    "from sklearn.tree import DecisionTreeClassifier\n",
    "\n",
    "data = pd.read_csv('dataset/creditcard.csv')"
   ]
  },
  {
   "cell_type": "code",
   "execution_count": 3,
   "metadata": {},
   "outputs": [],
   "source": [
    "from sklearn.model_selection import train_test_split\n",
    "X_train, X_test, y_train, y_test = train_test_split(data.iloc[:,1:-1], data.iloc[:,-1], test_size=0.2, random_state=42)"
   ]
  },
  {
   "cell_type": "code",
   "execution_count": 4,
   "metadata": {},
   "outputs": [],
   "source": [
    "from sklearn.metrics import confusion_matrix, accuracy_score, recall_score, precision_score, f1_score\n",
    "def calculate_metrics(y_actual, y_pred):\n",
    "    f1_sc = f1_score(y_actual, y_pred)\n",
    "    acc_sc = accuracy_score(y_actual, y_pred)\n",
    "    rec_sc = recall_score(y_actual, y_pred)\n",
    "    prec_sc = precision_score(y_actual, y_pred)\n",
    "    conf = confusion_matrix(y_actual, y_pred)\n",
    "    tn, fp, fn, tp = conf.ravel()\n",
    "    print(\" accuracy:\" + str((tn+tp)/(tp+tn+fp+fn)))\n",
    "    res = \" accuracy score: {}\\n recall_score: {}\\n precision_score: {}\\n f1_score: {}\"\n",
    "    print(res.format(acc_sc, rec_sc, prec_sc, prec_sc, f1_sc))\n",
    "    \n",
    "    return conf"
   ]
  },
  {
   "cell_type": "markdown",
   "metadata": {},
   "source": [
    "# Decision Tree"
   ]
  },
  {
   "cell_type": "markdown",
   "metadata": {},
   "source": [
    "### Training Decision Tree"
   ]
  },
  {
   "cell_type": "code",
   "execution_count": 5,
   "metadata": {},
   "outputs": [
    {
     "data": {
      "text/plain": [
       "DecisionTreeClassifier()"
      ]
     },
     "execution_count": 5,
     "metadata": {},
     "output_type": "execute_result"
    }
   ],
   "source": [
    "from sklearn.tree import DecisionTreeClassifier\n",
    "model = DecisionTreeClassifier()\n",
    "model.fit(X_train,y_train)"
   ]
  },
  {
   "cell_type": "markdown",
   "metadata": {},
   "source": [
    "#### Evaluate Decision Tree model"
   ]
  },
  {
   "cell_type": "code",
   "execution_count": 6,
   "metadata": {},
   "outputs": [
    {
     "name": "stdout",
     "output_type": "stream",
     "text": [
      "----------------------------\n",
      "The training accuracy\n",
      "----------------------------\n",
      " accuracy:1.0\n",
      " accuracy score: 1.0\n",
      " recall_score: 1.0\n",
      " precision_score: 1.0\n",
      " f1_score: 1.0\n",
      "----------------------------\n",
      "The test accuracy\n",
      "----------------------------\n",
      " accuracy:0.9991397773954567\n",
      " accuracy score: 0.9991397773954567\n",
      " recall_score: 0.7755102040816326\n",
      " precision_score: 0.7378640776699029\n",
      " f1_score: 0.7378640776699029\n"
     ]
    },
    {
     "data": {
      "text/plain": [
       "<AxesSubplot:title={'center':'Confusion Matrix for test accuracy'}>"
      ]
     },
     "execution_count": 6,
     "metadata": {},
     "output_type": "execute_result"
    },
    {
     "data": {
      "image/png": "[encoded data removed]",
      "text/plain": [
       "<Figure size 720x360 with 4 Axes>"
      ]
     },
     "metadata": {
      "needs_background": "light"
     },
     "output_type": "display_data"
    }
   ],
   "source": [
    "y_train_pred = model.predict(X_train)\n",
    "y_test_pred = model.predict(X_test)\n",
    "\n",
    "print('----------------------------\\nThe training accuracy\\n----------------------------')\n",
    "train_conf_mat = calculate_metrics(y_train, y_train_pred)\n",
    "print('----------------------------\\nThe test accuracy\\n----------------------------')\n",
    "test_conf_mat = calculate_metrics(y_test, y_test_pred)\n",
    "\n",
    "f, (ax1, ax2) = plt.subplots(1, 2,figsize=(10, 5))\n",
    "\n",
    "ax1.set_title('Confusion Matrix for training accuracy')\n",
    "sns.heatmap(train_conf_mat,ax=ax1, annot=True, fmt='d')\n",
    "\n",
    "ax2.set_title('Confusion Matrix for test accuracy')\n",
    "sns.heatmap(test_conf_mat,ax=ax2, annot=True, fmt='d')\n"
   ]
  },
  {
   "cell_type": "markdown",
   "metadata": {},
   "source": [
    "### Random Over Sampler + Decision Tree"
   ]
  },
  {
   "cell_type": "code",
   "execution_count": 12,
   "metadata": {},
   "outputs": [
    {
     "data": {
      "text/plain": [
       "DecisionTreeClassifier()"
      ]
     },
     "execution_count": 12,
     "metadata": {},
     "output_type": "execute_result"
    }
   ],
   "source": [
    "ros = RandomOverSampler(random_state=42)\n",
    "X_train_resampled, y_train_resampled = ros.fit_resample(X_train,y_train)\n",
    "\n",
    "model = DecisionTreeClassifier()\n",
    "model.fit(X_train_resampled, y_train_resampled)"
   ]
  },
  {
   "cell_type": "markdown",
   "metadata": {},
   "source": [
    "#### Evaluate ROS + Decision Tree model"
   ]
  },
  {
   "cell_type": "code",
   "execution_count": 13,
   "metadata": {},
   "outputs": [
    {
     "name": "stdout",
     "output_type": "stream",
     "text": [
      "----------------------------\n",
      "The training accuracy\n",
      "----------------------------\n",
      " accuracy:1.0\n",
      " accuracy score: 1.0\n",
      " recall_score: 1.0\n",
      " precision_score: 1.0\n",
      " f1_score: 1.0\n",
      "----------------------------\n",
      "The test accuracy\n",
      "----------------------------\n",
      " accuracy:0.9991748885221726\n",
      " accuracy score: 0.9991748885221726\n",
      " recall_score: 0.7551020408163265\n",
      " precision_score: 0.7628865979381443\n",
      " f1_score: 0.7628865979381443\n"
     ]
    },
    {
     "data": {
      "text/plain": [
       "<AxesSubplot:title={'center':'Confusion Matrix for test accuracy'}>"
      ]
     },
     "execution_count": 13,
     "metadata": {},
     "output_type": "execute_result"
    },
    {
     "data": {
      "image/png": "[encoded data removed]",
      "text/plain": [
       "<Figure size 720x360 with 4 Axes>"
      ]
     },
     "metadata": {
      "needs_background": "light"
     },
     "output_type": "display_data"
    }
   ],
   "source": [
    "y_train_pred = model.predict(X_train_resampled)\n",
    "y_test_pred = model.predict(X_test)\n",
    "\n",
    "print('----------------------------\\nThe training accuracy\\n----------------------------')\n",
    "train_conf_mat = calculate_metrics(y_train_resampled, y_train_pred)\n",
    "print('----------------------------\\nThe test accuracy\\n----------------------------')\n",
    "test_conf_mat = calculate_metrics(y_test, y_test_pred)\n",
    "\n",
    "f, (ax1, ax2) = plt.subplots(1, 2,figsize=(10, 5))\n",
    "\n",
    "ax1.set_title('Confusion Matrix for training accuracy')\n",
    "sns.heatmap(train_conf_mat,ax=ax1, annot=True, fmt='d')\n",
    "\n",
    "ax2.set_title('Confusion Matrix for test accuracy')\n",
    "sns.heatmap(test_conf_mat,ax=ax2, annot=True, fmt='d')"
   ]
  },
  {
   "cell_type": "markdown",
   "metadata": {},
   "source": [
    "### Decision Tree + Randomized parameter search"
   ]
  },
  {
   "cell_type": "code",
   "execution_count": 7,
   "metadata": {},
   "outputs": [
    {
     "name": "stdout",
     "output_type": "stream",
     "text": [
      "Fitting 5 folds for each of 10 candidates, totalling 50 fits\n",
      "[CV 1/5] END criterion=entropy, max_depth=30, min_samples_leaf=40;, score=0.846 total time=  12.1s\n",
      "[CV 2/5] END criterion=entropy, max_depth=30, min_samples_leaf=40;, score=0.544 total time=  10.5s\n",
      "[CV 3/5] END criterion=entropy, max_depth=30, min_samples_leaf=40;, score=0.722 total time=  10.5s\n",
      "[CV 4/5] END criterion=entropy, max_depth=30, min_samples_leaf=40;, score=0.595 total time=   9.0s\n",
      "[CV 5/5] END criterion=entropy, max_depth=30, min_samples_leaf=40;, score=0.722 total time=  11.1s\n",
      "[CV 1/5] END criterion=entropy, max_depth=20, min_samples_leaf=20;, score=0.808 total time=  12.4s\n",
      "[CV 2/5] END criterion=entropy, max_depth=20, min_samples_leaf=20;, score=0.633 total time=  13.1s\n",
      "[CV 3/5] END criterion=entropy, max_depth=20, min_samples_leaf=20;, score=0.684 total time=  11.3s\n",
      "[CV 4/5] END criterion=entropy, max_depth=20, min_samples_leaf=20;, score=0.772 total time=  11.6s\n",
      "[CV 5/5] END criterion=entropy, max_depth=20, min_samples_leaf=20;, score=0.797 total time=  13.4s\n",
      "[CV 1/5] END criterion=entropy, max_depth=20, min_samples_leaf=10;, score=0.795 total time=  15.3s\n",
      "[CV 2/5] END criterion=entropy, max_depth=20, min_samples_leaf=10;, score=0.646 total time=  11.4s\n",
      "[CV 3/5] END criterion=entropy, max_depth=20, min_samples_leaf=10;, score=0.734 total time=  11.3s\n",
      "[CV 4/5] END criterion=entropy, max_depth=20, min_samples_leaf=10;, score=0.772 total time=   8.5s\n",
      "[CV 5/5] END criterion=entropy, max_depth=20, min_samples_leaf=10;, score=0.823 total time=  11.8s\n",
      "[CV 1/5] END criterion=gini, max_depth=5, min_samples_leaf=200;, score=0.667 total time=   5.6s\n",
      "[CV 2/5] END criterion=gini, max_depth=5, min_samples_leaf=200;, score=0.646 total time=   5.8s\n",
      "[CV 3/5] END criterion=gini, max_depth=5, min_samples_leaf=200;, score=0.582 total time=   5.2s\n",
      "[CV 4/5] END criterion=gini, max_depth=5, min_samples_leaf=200;, score=0.722 total time=   5.2s\n",
      "[CV 5/5] END criterion=gini, max_depth=5, min_samples_leaf=200;, score=0.709 total time=   5.6s\n",
      "[CV 1/5] END criterion=entropy, max_depth=30, min_samples_leaf=200;, score=0.756 total time=  11.5s\n",
      "[CV 2/5] END criterion=entropy, max_depth=30, min_samples_leaf=200;, score=0.658 total time=   9.3s\n",
      "[CV 3/5] END criterion=entropy, max_depth=30, min_samples_leaf=200;, score=0.595 total time=  11.3s\n",
      "[CV 4/5] END criterion=entropy, max_depth=30, min_samples_leaf=200;, score=0.696 total time=   9.8s\n",
      "[CV 5/5] END criterion=entropy, max_depth=30, min_samples_leaf=200;, score=0.722 total time=  10.5s\n",
      "[CV 1/5] END criterion=entropy, max_depth=30, min_samples_leaf=10;, score=0.795 total time=  15.0s\n",
      "[CV 2/5] END criterion=entropy, max_depth=30, min_samples_leaf=10;, score=0.646 total time=  12.7s\n",
      "[CV 3/5] END criterion=entropy, max_depth=30, min_samples_leaf=10;, score=0.734 total time=  12.7s\n",
      "[CV 4/5] END criterion=entropy, max_depth=30, min_samples_leaf=10;, score=0.772 total time=  10.9s\n",
      "[CV 5/5] END criterion=entropy, max_depth=30, min_samples_leaf=10;, score=0.823 total time=  12.9s\n",
      "[CV 1/5] END criterion=log_loss, max_depth=10, min_samples_leaf=10;, score=nan total time=   0.0s\n",
      "[CV 2/5] END criterion=log_loss, max_depth=10, min_samples_leaf=10;, score=nan total time=   0.0s\n",
      "[CV 3/5] END criterion=log_loss, max_depth=10, min_samples_leaf=10;, score=nan total time=   0.0s\n",
      "[CV 4/5] END criterion=log_loss, max_depth=10, min_samples_leaf=10;, score=nan total time=   0.0s\n",
      "[CV 5/5] END criterion=log_loss, max_depth=10, min_samples_leaf=10;, score=nan total time=   0.0s\n",
      "[CV 1/5] END criterion=entropy, max_depth=10, min_samples_leaf=200;, score=0.756 total time=  13.7s\n",
      "[CV 2/5] END criterion=entropy, max_depth=10, min_samples_leaf=200;, score=0.658 total time=  12.3s\n",
      "[CV 3/5] END criterion=entropy, max_depth=10, min_samples_leaf=200;, score=0.595 total time=  13.4s\n",
      "[CV 4/5] END criterion=entropy, max_depth=10, min_samples_leaf=200;, score=0.696 total time=  10.0s\n",
      "[CV 5/5] END criterion=entropy, max_depth=10, min_samples_leaf=200;, score=0.722 total time=  18.4s\n",
      "[CV 1/5] END criterion=entropy, max_depth=20, min_samples_leaf=30;, score=0.744 total time=  15.9s\n",
      "[CV 2/5] END criterion=entropy, max_depth=20, min_samples_leaf=30;, score=0.620 total time=  14.1s\n",
      "[CV 3/5] END criterion=entropy, max_depth=20, min_samples_leaf=30;, score=0.684 total time=  12.4s\n",
      "[CV 4/5] END criterion=entropy, max_depth=20, min_samples_leaf=30;, score=0.696 total time=  10.8s\n",
      "[CV 5/5] END criterion=entropy, max_depth=20, min_samples_leaf=30;, score=0.696 total time=  12.3s\n",
      "[CV 1/5] END criterion=log_loss, max_depth=10, min_samples_leaf=200;, score=nan total time=   0.0s\n",
      "[CV 2/5] END criterion=log_loss, max_depth=10, min_samples_leaf=200;, score=nan total time=   0.0s\n",
      "[CV 3/5] END criterion=log_loss, max_depth=10, min_samples_leaf=200;, score=nan total time=   0.0s\n",
      "[CV 4/5] END criterion=log_loss, max_depth=10, min_samples_leaf=200;, score=nan total time=   0.0s\n",
      "[CV 5/5] END criterion=log_loss, max_depth=10, min_samples_leaf=200;, score=nan total time=   0.0s\n"
     ]
    },
    {
     "name": "stderr",
     "output_type": "stream",
     "text": [
      "c:\\Users\\atik_\\anaconda3\\lib\\site-packages\\sklearn\\model_selection\\_validation.py:372: FitFailedWarning: \n",
      "10 fits failed out of a total of 50.\n",
      "The score on these train-test partitions for these parameters will be set to nan.\n",
      "If these failures are not expected, you can try to debug them by setting error_score='raise'.\n",
      "\n",
      "Below are more details about the failures:\n",
      "--------------------------------------------------------------------------------\n",
      "10 fits failed with the following error:\n",
      "Traceback (most recent call last):\n",
      "  File \"c:\\Users\\atik_\\anaconda3\\lib\\site-packages\\sklearn\\model_selection\\_validation.py\", line 681, in _fit_and_score\n",
      "    estimator.fit(X_train, y_train, **fit_params)\n",
      "  File \"c:\\Users\\atik_\\anaconda3\\lib\\site-packages\\sklearn\\tree\\_classes.py\", line 937, in fit\n",
      "    super().fit(\n",
      "  File \"c:\\Users\\atik_\\anaconda3\\lib\\site-packages\\sklearn\\tree\\_classes.py\", line 352, in fit\n",
      "    criterion = CRITERIA_CLF[self.criterion](\n",
      "KeyError: 'log_loss'\n",
      "\n",
      "  warnings.warn(some_fits_failed_message, FitFailedWarning)\n",
      "c:\\Users\\atik_\\anaconda3\\lib\\site-packages\\sklearn\\model_selection\\_search.py:969: UserWarning: One or more of the test scores are non-finite: [0.68568647 0.73875365 0.75391107 0.6649789  0.68545927 0.75391107\n",
      "        nan 0.68545927 0.68795846        nan]\n",
      "  warnings.warn(\n"
     ]
    },
    {
     "name": "stdout",
     "output_type": "stream",
     "text": [
      "{'min_samples_leaf': 10, 'max_depth': 20, 'criterion': 'entropy'}\n",
      "----------------------------\n",
      "The training accuracy\n",
      "----------------------------\n",
      " accuracy:0.9996269393666747\n",
      " accuracy score: 0.9996269393666747\n",
      " recall_score: 0.8451776649746193\n",
      " precision_score: 0.9327731092436975\n",
      " f1_score: 0.9327731092436975\n",
      "----------------------------\n",
      "The test accuracy\n",
      "----------------------------\n",
      " accuracy:0.9995611109160493\n",
      " accuracy score: 0.9995611109160493\n",
      " recall_score: 0.8163265306122449\n",
      " precision_score: 0.9195402298850575\n",
      " f1_score: 0.9195402298850575\n"
     ]
    }
   ],
   "source": [
    "from sklearn.model_selection import RandomizedSearchCV\n",
    "from sklearn.metrics import fbeta_score, make_scorer\n",
    "\n",
    "param_grid = {\"criterion\" : ['gini', 'entropy'], 'max_depth' : [5,10,20,30], 'min_samples_leaf': [6,10,20,30,40,200]}\n",
    "\n",
    "model = DecisionTreeClassifier(random_state=42)\n",
    "\n",
    "scorer = make_scorer(fbeta_score,beta=1)\n",
    "dtree_gscv = RandomizedSearchCV(model, param_distributions=param_grid, scoring='recall', verbose=3)\n",
    "\n",
    "grid_fit = dtree_gscv.fit(X_train, y_train)\n",
    "\n",
    "print(dtree_gscv.best_params_)\n",
    "\n",
    "best_classifier = grid_fit.best_estimator_\n",
    "y_train_pred = best_classifier.predict(X_train)\n",
    "y_test_pred = best_classifier.predict(X_test)\n",
    "\n",
    "print('----------------------------\\nThe training accuracy\\n----------------------------')\n",
    "train_conf_mat = calculate_metrics(y_train, y_train_pred)\n",
    "print('----------------------------\\nThe test accuracy\\n----------------------------')\n",
    "test_conf_mat = calculate_metrics(y_test, y_test_pred)"
   ]
  },
  {
   "cell_type": "code",
   "execution_count": 8,
   "metadata": {},
   "outputs": [
    {
     "data": {
      "text/plain": [
       "<AxesSubplot:title={'center':'Confusion Matrix for test accuracy'}>"
      ]
     },
     "execution_count": 8,
     "metadata": {},
     "output_type": "execute_result"
    },
    {
     "data": {
      "image/png": "[encoded data removed]",
      "text/plain": [
       "<Figure size 720x360 with 4 Axes>"
      ]
     },
     "metadata": {
      "needs_background": "light"
     },
     "output_type": "display_data"
    }
   ],
   "source": [
    "f, (ax1, ax2) = plt.subplots(1, 2,figsize=(10, 5))\n",
    "\n",
    "ax1.set_title('Confusion Matrix for training accuracy')\n",
    "sns.heatmap(train_conf_mat,ax=ax1, annot=True, fmt='d')\n",
    "\n",
    "ax2.set_title('Confusion Matrix for test accuracy')\n",
    "sns.heatmap(test_conf_mat,ax=ax2, annot=True, fmt='d')"
   ]
  },
  {
   "cell_type": "code",
   "execution_count": 6,
   "metadata": {},
   "outputs": [
    {
     "name": "stdout",
     "output_type": "stream",
     "text": [
      "----------------------------\n",
      "The training accuracy\n",
      "----------------------------\n",
      " accuracy:1.0\n",
      " accuracy score: 1.0\n",
      " recall_score: 1.0\n",
      " precision_score: 1.0\n",
      " f1_score: 1.0\n",
      "----------------------------\n",
      "The test accuracy\n",
      "----------------------------\n",
      " accuracy:0.9978055545802464\n",
      " accuracy score: 0.9978055545802464\n",
      " recall_score: 0.7857142857142857\n",
      " precision_score: 0.425414364640884\n",
      " f1_score: 0.425414364640884\n"
     ]
    },
    {
     "data": {
      "text/plain": [
       "<AxesSubplot:title={'center':'Confusion Matrix for test accuracy'}>"
      ]
     },
     "execution_count": 6,
     "metadata": {},
     "output_type": "execute_result"
    },
    {
     "data": {
      "image/png": "[encoded data removed]",
      "text/plain": [
       "<Figure size 720x360 with 4 Axes>"
      ]
     },
     "metadata": {
      "needs_background": "light"
     },
     "output_type": "display_data"
    }
   ],
   "source": [
    "from imblearn.over_sampling import SMOTE\n",
    "from imblearn.pipeline import make_pipeline as imbalanced_make_pipeline\n",
    "\n",
    "dtc = DecisionTreeClassifier(random_state=42)\n",
    "pipeline = imbalanced_make_pipeline(SMOTE(sampling_strategy='minority'),dtc)\n",
    "\n",
    "model = pipeline.fit(X_train, y_train)\n",
    "\n",
    "y_train_pred = model.predict(X_train)\n",
    "y_test_pred = model.predict(X_test)\n",
    "\n",
    "print('----------------------------\\nThe training accuracy\\n----------------------------')\n",
    "train_conf_mat = calculate_metrics(y_train, y_train_pred)\n",
    "print('----------------------------\\nThe test accuracy\\n----------------------------')\n",
    "test_conf_mat = calculate_metrics(y_test, y_test_pred)\n",
    "\n",
    "f, (ax1, ax2) = plt.subplots(1, 2,figsize=(10, 5))\n",
    "ax1.set_title('Confusion Matrix for training accuracy')\n",
    "sns.heatmap(train_conf_mat,ax=ax1, annot=True, fmt='d')\n",
    "\n",
    "ax2.set_title('Confusion Matrix for test accuracy')\n",
    "sns.heatmap(test_conf_mat,ax=ax2, annot=True, fmt='d')"
   ]
  },
  {
   "cell_type": "markdown",
   "metadata": {},
   "source": [
    "# Logistic Regression + SMOTE"
   ]
  },
  {
   "cell_type": "code",
   "execution_count": 7,
   "metadata": {},
   "outputs": [
    {
     "name": "stderr",
     "output_type": "stream",
     "text": [
      "c:\\Users\\atik_\\anaconda3\\lib\\site-packages\\sklearn\\linear_model\\_logistic.py:814: ConvergenceWarning: lbfgs failed to converge (status=1):\n",
      "STOP: TOTAL NO. of ITERATIONS REACHED LIMIT.\n",
      "\n",
      "Increase the number of iterations (max_iter) or scale the data as shown in:\n",
      "    https://scikit-learn.org/stable/modules/preprocessing.html\n",
      "Please also refer to the documentation for alternative solver options:\n",
      "    https://scikit-learn.org/stable/modules/linear_model.html#logistic-regression\n",
      "  n_iter_i = _check_optimize_result(\n",
      "c:\\Users\\atik_\\anaconda3\\lib\\site-packages\\sklearn\\model_selection\\_validation.py:372: FitFailedWarning: \n",
      "10 fits failed out of a total of 25.\n",
      "The score on these train-test partitions for these parameters will be set to nan.\n",
      "If these failures are not expected, you can try to debug them by setting error_score='raise'.\n",
      "\n",
      "Below are more details about the failures:\n",
      "--------------------------------------------------------------------------------\n",
      "10 fits failed with the following error:\n",
      "Traceback (most recent call last):\n",
      "  File \"c:\\Users\\atik_\\anaconda3\\lib\\site-packages\\sklearn\\model_selection\\_validation.py\", line 681, in _fit_and_score\n",
      "    estimator.fit(X_train, y_train, **fit_params)\n",
      "  File \"c:\\Users\\atik_\\anaconda3\\lib\\site-packages\\sklearn\\linear_model\\_logistic.py\", line 1461, in fit\n",
      "    solver = _check_solver(self.solver, self.penalty, self.dual)\n",
      "  File \"c:\\Users\\atik_\\anaconda3\\lib\\site-packages\\sklearn\\linear_model\\_logistic.py\", line 447, in _check_solver\n",
      "    raise ValueError(\n",
      "ValueError: Solver lbfgs supports only 'l2' or 'none' penalties, got l1 penalty.\n",
      "\n",
      "  warnings.warn(some_fits_failed_message, FitFailedWarning)\n",
      "c:\\Users\\atik_\\anaconda3\\lib\\site-packages\\sklearn\\model_selection\\_search.py:969: UserWarning: One or more of the test scores are non-finite: [0.96050578        nan 0.96035849 0.96007052        nan]\n",
      "  warnings.warn(\n",
      "c:\\Users\\atik_\\anaconda3\\lib\\site-packages\\sklearn\\linear_model\\_logistic.py:814: ConvergenceWarning: lbfgs failed to converge (status=1):\n",
      "STOP: TOTAL NO. of ITERATIONS REACHED LIMIT.\n",
      "\n",
      "Increase the number of iterations (max_iter) or scale the data as shown in:\n",
      "    https://scikit-learn.org/stable/modules/preprocessing.html\n",
      "Please also refer to the documentation for alternative solver options:\n",
      "    https://scikit-learn.org/stable/modules/linear_model.html#logistic-regression\n",
      "  n_iter_i = _check_optimize_result(\n"
     ]
    },
    {
     "name": "stdout",
     "output_type": "stream",
     "text": [
      "----------------------------\n",
      "The training accuracy\n",
      "----------------------------\n",
      " accuracy:0.9818780311176458\n",
      " accuracy score: 0.9818780311176458\n",
      " recall_score: 0.9086294416243654\n",
      " precision_score: 0.08043136373848574\n",
      " f1_score: 0.08043136373848574\n",
      "----------------------------\n",
      "The test accuracy\n",
      "----------------------------\n",
      " accuracy:0.9809697693198974\n",
      " accuracy score: 0.9809697693198974\n",
      " recall_score: 0.9081632653061225\n",
      " precision_score: 0.07646048109965636\n",
      " f1_score: 0.07646048109965636\n"
     ]
    },
    {
     "data": {
      "text/plain": [
       "<AxesSubplot:title={'center':'Confusion Matrix for test accuracy'}>"
      ]
     },
     "execution_count": 7,
     "metadata": {},
     "output_type": "execute_result"
    },
    {
     "data": {
      "image/png": "[encoded data removed]",
      "text/plain": [
       "<Figure size 720x360 with 4 Axes>"
      ]
     },
     "metadata": {
      "needs_background": "light"
     },
     "output_type": "display_data"
    }
   ],
   "source": [
    "from sklearn.linear_model import LogisticRegression\n",
    "from sklearn.model_selection import RandomizedSearchCV\n",
    "\n",
    "model = LogisticRegression(penalty='l2')\n",
    "log_reg_params = {\"penalty\": ['l1', 'l2'], 'C': [0.001, 0.01, 0.1, 1, 10, 100, 1000]}\n",
    "rand_log_reg = RandomizedSearchCV(LogisticRegression(), log_reg_params, n_iter=5)\n",
    "\n",
    "pipeline = imbalanced_make_pipeline(SMOTE(sampling_strategy='minority'), rand_log_reg)\n",
    "\n",
    "model = pipeline.fit(X_train, y_train)\n",
    "best_est = rand_log_reg.best_estimator_\n",
    "\n",
    "y_train_pred = best_est.predict(X_train)\n",
    "y_test_pred = best_est.predict(X_test)\n",
    "\n",
    "print('----------------------------\\nThe training accuracy\\n----------------------------')\n",
    "train_conf_mat = calculate_metrics(y_train, y_train_pred)\n",
    "print('----------------------------\\nThe test accuracy\\n----------------------------')\n",
    "test_conf_mat = calculate_metrics(y_test, y_test_pred)\n",
    "\n",
    "f, (ax1, ax2) = plt.subplots(1, 2,figsize=(10, 5))\n",
    "\n",
    "ax1.set_title('Confusion Matrix for training accuracy')\n",
    "sns.heatmap(train_conf_mat,ax=ax1, annot=True, fmt='d')\n",
    "\n",
    "ax2.set_title('Confusion Matrix for test accuracy')\n",
    "sns.heatmap(test_conf_mat,ax=ax2, annot=True, fmt='d')\n"
   ]
  },
  {
   "cell_type": "markdown",
   "metadata": {},
   "source": [
    "# Support Vector Machine"
   ]
  },
  {
   "cell_type": "code",
   "execution_count": 9,
   "metadata": {},
   "outputs": [
    {
     "name": "stdout",
     "output_type": "stream",
     "text": [
      "Fitting 5 folds for each of 10 candidates, totalling 50 fits\n",
      "[CV 1/5] END ........C=2, degree=3, kernel=poly;, score=0.821 total time=   7.0s\n",
      "[CV 2/5] END ........C=2, degree=3, kernel=poly;, score=0.772 total time=   7.9s\n",
      "[CV 3/5] END ........C=2, degree=3, kernel=poly;, score=0.759 total time=   7.1s\n"
     ]
    }
   ],
   "source": [
    "from sklearn.svm import SVC\n",
    "svm_c = SVC()\n",
    "parameters = {\n",
    "    'C': list(range(1,3)),\n",
    "    'kernel': ['linear', 'poly', 'rbf'],\n",
    "    'degree': list(range(1,4))\n",
    "}\n",
    "\n",
    "# Run a randomized search over the hyperparameters\n",
    "random_search = RandomizedSearchCV(svm_c, param_distributions=parameters, scoring='recall', verbose=3)\n",
    "\n",
    "# wasn't able to get a result without scaling\n",
    "from sklearn.preprocessing import MinMaxScaler\n",
    "scaling = MinMaxScaler(feature_range=(-1,1)).fit(X_train)\n",
    "X_train = scaling.transform(X_train)\n",
    "X_test = scaling.transform(X_test)\n",
    "\n",
    "# Fit the model on the training data\n",
    "random_search.fit(X_train, y_train)\n",
    "\n",
    "best_est = random_search.best_estimator_\n",
    "\n",
    "# Make predictions on the test data\n",
    "y_train_pred = best_est.predict(X_train)\n",
    "y_test_pred = best_est.predict(X_test)\n",
    "\n",
    "print('----------------------------\\nThe training accuracy\\n----------------------------')\n",
    "train_conf_mat = calculate_metrics(y_train, y_train_pred)\n",
    "print('----------------------------\\nThe test accuracy\\n----------------------------')\n",
    "test_conf_mat = calculate_metrics(y_test, y_test_pred)\n",
    "\n",
    "f, (ax1, ax2) = plt.subplots(1, 2,figsize=(10, 5))\n",
    "\n",
    "ax1.set_title('Confusion Matrix for training accuracy')\n",
    "sns.heatmap(train_conf_mat,ax=ax1, annot=True, fmt='d')\n",
    "\n",
    "ax2.set_title('Confusion Matrix for test accuracy')\n",
    "sns.heatmap(test_conf_mat,ax=ax2, annot=True, fmt='d')"
   ]
  }
 ],
 "metadata": {
  "interpreter": {
   "hash": "1bb1e9e58b40c4ac6928b6d4e9ed2244fea74d0168904c0a47896057ac3e03f7"
  },
  "kernelspec": {
   "display_name": "Python 3 (ipykernel)",
   "language": "python",
   "name": "python3"
  },
  "language_info": {
   "codemirror_mode": {
    "name": "ipython",
    "version": 3
   },
   "file_extension": ".py",
   "mimetype": "text/x-python",
   "name": "python",
   "nbconvert_exporter": "python",
   "pygments_lexer": "ipython3",
   "version": "3.8.12"
  }
 },
 "nbformat": 4,
 "nbformat_minor": 4
}
